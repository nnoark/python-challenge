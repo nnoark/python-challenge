{
    "cells": [
        {
            "cell_type": "code",
            "execution_count": 52,
            "source": [
                "import pandas as pd\r\n",
                "import os\r\n"
            ],
            "outputs": [],
            "metadata": {}
        },
        {
            "cell_type": "code",
            "execution_count": 14,
            "source": [
                "### read in our csv\r\n",
                "election_df = pd.read_csv(r\"C:\\Users\\nnoar\\OneDrive\\Desktop\\python-challenge\\PyPoll\\Resources\\election_data.csv\")\r\n",
                "election_df.head()"
            ],
            "outputs": [
                {
                    "output_type": "execute_result",
                    "data": {
                        "text/plain": [
                            "   Voter ID County Candidate\n",
                            "0  12864552  Marsh      Khan\n",
                            "1  17444633  Marsh    Correy\n",
                            "2  19330107  Marsh      Khan\n",
                            "3  19865775  Queen      Khan\n",
                            "4  11927875  Marsh      Khan"
                        ],
                        "text/html": [
                            "<div>\n",
                            "<style scoped>\n",
                            "    .dataframe tbody tr th:only-of-type {\n",
                            "        vertical-align: middle;\n",
                            "    }\n",
                            "\n",
                            "    .dataframe tbody tr th {\n",
                            "        vertical-align: top;\n",
                            "    }\n",
                            "\n",
                            "    .dataframe thead th {\n",
                            "        text-align: right;\n",
                            "    }\n",
                            "</style>\n",
                            "<table border=\"1\" class=\"dataframe\">\n",
                            "  <thead>\n",
                            "    <tr style=\"text-align: right;\">\n",
                            "      <th></th>\n",
                            "      <th>Voter ID</th>\n",
                            "      <th>County</th>\n",
                            "      <th>Candidate</th>\n",
                            "    </tr>\n",
                            "  </thead>\n",
                            "  <tbody>\n",
                            "    <tr>\n",
                            "      <th>0</th>\n",
                            "      <td>12864552</td>\n",
                            "      <td>Marsh</td>\n",
                            "      <td>Khan</td>\n",
                            "    </tr>\n",
                            "    <tr>\n",
                            "      <th>1</th>\n",
                            "      <td>17444633</td>\n",
                            "      <td>Marsh</td>\n",
                            "      <td>Correy</td>\n",
                            "    </tr>\n",
                            "    <tr>\n",
                            "      <th>2</th>\n",
                            "      <td>19330107</td>\n",
                            "      <td>Marsh</td>\n",
                            "      <td>Khan</td>\n",
                            "    </tr>\n",
                            "    <tr>\n",
                            "      <th>3</th>\n",
                            "      <td>19865775</td>\n",
                            "      <td>Queen</td>\n",
                            "      <td>Khan</td>\n",
                            "    </tr>\n",
                            "    <tr>\n",
                            "      <th>4</th>\n",
                            "      <td>11927875</td>\n",
                            "      <td>Marsh</td>\n",
                            "      <td>Khan</td>\n",
                            "    </tr>\n",
                            "  </tbody>\n",
                            "</table>\n",
                            "</div>"
                        ]
                    },
                    "metadata": {},
                    "execution_count": 14
                }
            ],
            "metadata": {}
        },
        {
            "cell_type": "code",
            "execution_count": 15,
            "source": [
                "election_results = election_df[\"Candidate\"].value_counts()\r\n",
                "election_results"
            ],
            "outputs": [
                {
                    "output_type": "execute_result",
                    "data": {
                        "text/plain": [
                            "Khan        2218231\n",
                            "Correy       704200\n",
                            "Li           492940\n",
                            "O'Tooley     105630\n",
                            "Name: Candidate, dtype: int64"
                        ]
                    },
                    "metadata": {},
                    "execution_count": 15
                }
            ],
            "metadata": {}
        },
        {
            "cell_type": "code",
            "execution_count": 30,
            "source": [
                "results_df = pd.DataFrame(data=election_results)\r\n",
                "results_df\r\n",
                "##REname the columns\r\n",
                "results_df = results_df.rename(columns={0: \"Candidates\",\"Candidate\":\"Votes\"})\r\n",
                "results_df = results_df.reset_index()\r\n",
                "results_df = results_df.rename(columns={\"index\":\"Candidates\"})\r\n",
                "results_df"
            ],
            "outputs": [
                {
                    "output_type": "execute_result",
                    "data": {
                        "text/plain": [
                            "  Candidates    Votes\n",
                            "0       Khan  2218231\n",
                            "1     Correy   704200\n",
                            "2         Li   492940\n",
                            "3   O'Tooley   105630"
                        ],
                        "text/html": [
                            "<div>\n",
                            "<style scoped>\n",
                            "    .dataframe tbody tr th:only-of-type {\n",
                            "        vertical-align: middle;\n",
                            "    }\n",
                            "\n",
                            "    .dataframe tbody tr th {\n",
                            "        vertical-align: top;\n",
                            "    }\n",
                            "\n",
                            "    .dataframe thead th {\n",
                            "        text-align: right;\n",
                            "    }\n",
                            "</style>\n",
                            "<table border=\"1\" class=\"dataframe\">\n",
                            "  <thead>\n",
                            "    <tr style=\"text-align: right;\">\n",
                            "      <th></th>\n",
                            "      <th>Candidates</th>\n",
                            "      <th>Votes</th>\n",
                            "    </tr>\n",
                            "  </thead>\n",
                            "  <tbody>\n",
                            "    <tr>\n",
                            "      <th>0</th>\n",
                            "      <td>Khan</td>\n",
                            "      <td>2218231</td>\n",
                            "    </tr>\n",
                            "    <tr>\n",
                            "      <th>1</th>\n",
                            "      <td>Correy</td>\n",
                            "      <td>704200</td>\n",
                            "    </tr>\n",
                            "    <tr>\n",
                            "      <th>2</th>\n",
                            "      <td>Li</td>\n",
                            "      <td>492940</td>\n",
                            "    </tr>\n",
                            "    <tr>\n",
                            "      <th>3</th>\n",
                            "      <td>O'Tooley</td>\n",
                            "      <td>105630</td>\n",
                            "    </tr>\n",
                            "  </tbody>\n",
                            "</table>\n",
                            "</div>"
                        ]
                    },
                    "metadata": {},
                    "execution_count": 30
                }
            ],
            "metadata": {}
        },
        {
            "cell_type": "code",
            "execution_count": 44,
            "source": [
                "#Add the percentages to our new dataframe\r\n",
                "total_votes = results_df['Votes'].sum()\r\n",
                "total_votes\r\n",
                "vote_percentage = round((results_df['Votes']/total_votes) * 100,2)\r\n",
                "results_df['Vote Percentage'] =vote_percentage\r\n",
                "results_df\r\n",
                "results_df.iloc[0,1]"
            ],
            "outputs": [
                {
                    "output_type": "execute_result",
                    "data": {
                        "text/plain": [
                            "2218231"
                        ]
                    },
                    "metadata": {},
                    "execution_count": 44
                }
            ],
            "metadata": {}
        },
        {
            "cell_type": "code",
            "execution_count": 51,
            "source": [
                "###Print our results\r\n",
                "print('Election Results')\r\n",
                "print('-----------------------------')\r\n",
                "print('Total Votes: ' + str(total_votes))\r\n",
                "print('-----------------------------')\r\n",
                "print(str(results_df.iloc[0,0]) + ': ' + str(results_df.iloc[0,2]) + '% ' + '(' + str(results_df.iloc[0,1]) + ')' )\r\n",
                "print(str(results_df.iloc[1,0])+ ': ' + str(results_df.iloc[1,2]) + '% ' + '(' + str(results_df.iloc[1,1]) + ')')\r\n",
                "print(str(results_df.iloc[2,0]) + ': ' + str(results_df.iloc[2,2]) + '% ' + '(' + str(results_df.iloc[2,1]) + ')')\r\n",
                "print(str(results_df.iloc[3,0]) + ': ' + str(results_df.iloc[3,2]) + '% ' + '(' + str(results_df.iloc[3,1]) + ')')\r\n",
                "print('-------------------------------')\r\n",
                "print('Winner: ' + str(results_df.iloc[0,0]))\r\n",
                "\r\n",
                "\r\n",
                "\r\n",
                "\r\n"
            ],
            "outputs": [
                {
                    "output_type": "stream",
                    "name": "stdout",
                    "text": [
                        "Election Results\n",
                        "-----------------------------\n",
                        "Total Votes: 3521001\n",
                        "-----------------------------\n",
                        "Khan: 63.0% (2218231)\n",
                        "Correy: 20.0% (704200)\n",
                        "Li: 14.0% (492940)\n",
                        "O'Tooley: 3.0% (105630)\n",
                        "-------------------------------\n",
                        "Winner: Khan\n"
                    ]
                }
            ],
            "metadata": {}
        },
        {
            "cell_type": "code",
            "execution_count": 57,
            "source": [
                "#Create a text file\r\n",
                "analysis_txt = os.path.join(r\"C:\\Users\\nnoar\\OneDrive\\Desktop\\python-challenge\\PyPoll\\Analysis\\analysis.txt\")\r\n",
                "with open('analysis.txt', 'w') as text:\r\n",
                "    text.write('Election Results')\r\n",
                "    text.write('-----------------------------\\n')\r\n",
                "    text.write('Total Votes: ' + str(total_votes) + '\\n')\r\n",
                "    text.write('-----------------------------')\r\n",
                "    text.write(str(results_df.iloc[0,0]) + ': ' + str(results_df.iloc[0,2]) + '% ' + '(' + str(results_df.iloc[0,1]) + ')' + '\\n' )\r\n",
                "    text.write(str(results_df.iloc[1,0])+ ': ' + str(results_df.iloc[1,2]) + '% ' + '(' + str(results_df.iloc[1,1]) + ')' + '\\n')\r\n",
                "    text.write(str(results_df.iloc[2,0]) + ': ' + str(results_df.iloc[2,2]) + '% ' + '(' + str(results_df.iloc[2,1]) + ')' + '\\n')\r\n",
                "    text.write(str(results_df.iloc[3,0]) + ': ' + str(results_df.iloc[3,2]) + '% ' + '(' + str(results_df.iloc[3,1]) + ')' + '\\n')\r\n",
                "    text.write('-------------------------------\\n')\r\n",
                "    text.write('Winner: ' + str(results_df.iloc[0,0]))\r\n",
                "\r\n"
            ],
            "outputs": [],
            "metadata": {}
        }
    ],
    "metadata": {
        "orig_nbformat": 4,
        "language_info": {
            "name": "python",
            "version": "3.8.8",
            "mimetype": "text/x-python",
            "codemirror_mode": {
                "name": "ipython",
                "version": 3
            },
            "pygments_lexer": "ipython3",
            "nbconvert_exporter": "python",
            "file_extension": ".py"
        },
        "kernelspec": {
            "name": "python3",
            "display_name": "Python 3.8.8 64-bit ('base': conda)"
        },
        "interpreter": {
            "hash": "2c99e9fdba74eaac10fbab343373af76b25a75552a47fd4ce928ab922f07f2e4"
        }
    },
    "nbformat": 4,
    "nbformat_minor": 2
}